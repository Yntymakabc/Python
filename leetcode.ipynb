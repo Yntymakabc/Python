{
 "cells": [
  {
   "cell_type": "code",
   "execution_count": null,
   "id": "f30c49b2",
   "metadata": {},
   "outputs": [],
   "source": [
    "s = input().strip()  #print() Считываем строку вида \"{b, a, b, a}\"\n",
    "s = s.strip(\"{}\")     # Убираем фигурные скобки\n",
    "items = [item.strip() for item in s.split(\",\")] \n",
    "\n",
    "a = (len(set(items)))\n",
    "print(a)\n"
   ]
  },
  {
   "cell_type": "code",
   "execution_count": null,
   "id": "1d1692b4",
   "metadata": {},
   "outputs": [
    {
     "name": "stdout",
     "output_type": "stream",
     "text": [
      "25\n"
     ]
    }
   ],
   "source": [
    "k, n, w = map(int, input().split())\n",
    "total = 0\n",
    "for i in range(1,w+1):\n",
    "    total += k*i\n",
    "\n",
    "need = total - n\n",
    "print(max(0, need))\n"
   ]
  },
  {
   "cell_type": "code",
   "execution_count": 5,
   "id": "0b88de6a",
   "metadata": {},
   "outputs": [
    {
     "name": "stdout",
     "output_type": "stream",
     "text": [
      "3\n"
     ]
    }
   ],
   "source": [
    "a, b ,c = [1,2,3]\n",
    "print(c)"
   ]
  },
  {
   "cell_type": "code",
   "execution_count": null,
   "id": "c16c1ff4",
   "metadata": {},
   "outputs": [],
   "source": [
    "\n",
    "# Солдат хочет купить w бананов в магазине. Ему надо заплатить k долларов за первый банан, 2k долларов — за второй и так далее (иными словами, за i-й банан надо заплатить i·k долларов).\n",
    "\n",
    "# У него есть n долларов. Сколько долларов ему придется одолжить у однополчанина, чтобы купить w бананов?\n",
    "\n",
    "# Входные данные\n",
    "# В первой строке записано три положительных целых числа k, n, w (1  ≤  k, w  ≤  1000, 0 ≤ n ≤ 109), стоимость первого банана, изначальное количество долларов у солдата и количество бананов, которые он хочет купить.\n",
    "\n",
    "# Выходные данные\n",
    "# Выведите единственное целое число — количество долларов, которое солдату надо одолжить у однополчанина. Если деньги одалживать не надо, выведите 0."
   ]
  },
  {
   "cell_type": "code",
   "execution_count": null,
   "id": "4a5969d9",
   "metadata": {},
   "outputs": [],
   "source": [
    "class Solution:\n",
    "    def mergeTwoLists(self, list1: Optional[ListNode], list2: Optional[ListNode]) -> Optional[ListNode]:\n",
    "        newArr = []\n",
    "        for i in range((len(list1))-1):\n",
    "            if list1.val > list2.value :\n",
    "                newArr.append(list2.value)\n",
    "                newArr.append(list1.value)\n"
   ]
  }
 ],
 "metadata": {
  "kernelspec": {
   "display_name": "Python 3",
   "language": "python",
   "name": "python3"
  },
  "language_info": {
   "codemirror_mode": {
    "name": "ipython",
    "version": 3
   },
   "file_extension": ".py",
   "mimetype": "text/x-python",
   "name": "python",
   "nbconvert_exporter": "python",
   "pygments_lexer": "ipython3",
   "version": "3.13.2"
  }
 },
 "nbformat": 4,
 "nbformat_minor": 5
}
