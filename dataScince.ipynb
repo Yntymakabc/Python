{
 "cells": [
  {
   "cell_type": "code",
   "execution_count": 11,
   "id": "c8344d03",
   "metadata": {},
   "outputs": [
    {
     "name": "stdout",
     "output_type": "stream",
     "text": [
      "0    120.5\n",
      "1      0.0\n",
      "2    350.0\n",
      "3     75.0\n",
      "4      0.0\n",
      "5    220.0\n",
      "6    180.0\n",
      "7      0.0\n",
      "8    500.0\n",
      "9     60.0\n",
      "Name: purchase_amount, dtype: float64\n"
     ]
    }
   ],
   "source": [
    "import pandas as pd\n",
    "\n",
    "df = pd.read_csv('data.csv')\n",
    "\n",
    "print(df['purchase_amount'])\n"
   ]
  },
  {
   "cell_type": "markdown",
   "id": "5f7caacc",
   "metadata": {},
   "source": []
  },
  {
   "cell_type": "code",
   "execution_count": null,
   "id": "8d5aa6a5",
   "metadata": {},
   "outputs": [],
   "source": []
  }
 ],
 "metadata": {
  "kernelspec": {
   "display_name": "Python 3",
   "language": "python",
   "name": "python3"
  },
  "language_info": {
   "codemirror_mode": {
    "name": "ipython",
    "version": 3
   },
   "file_extension": ".py",
   "mimetype": "text/x-python",
   "name": "python",
   "nbconvert_exporter": "python",
   "pygments_lexer": "ipython3",
   "version": "3.13.2"
  }
 },
 "nbformat": 4,
 "nbformat_minor": 5
}
