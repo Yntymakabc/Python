{
 "cells": [
  {
   "cell_type": "code",
   "execution_count": null,
   "id": "18c295e5",
   "metadata": {},
   "outputs": [
    {
     "ename": "SyntaxError",
     "evalue": "invalid syntax (1676604687.py, line 8)",
     "output_type": "error",
     "traceback": [
      "  \u001b[36mCell\u001b[39m\u001b[36m \u001b[39m\u001b[32mIn[8]\u001b[39m\u001b[32m, line 8\u001b[39m\n\u001b[31m    \u001b[39m\u001b[31mnew = [word for word in words if len(word<=10) else word[0]+str(len(word[1:-1]))+word[len(world)-1]]\u001b[39m\n                                                   ^\n\u001b[31mSyntaxError\u001b[39m\u001b[31m:\u001b[39m invalid syntax\n"
     ]
    }
   ],
   "source": [
    "n = int(input())\n",
    "words = []\n",
    "for _ in range(n):\n",
    "    word = input()\n",
    "    words.append(word)\n",
    "\n",
    "for i in words:\n",
    "    if len(i) <=10:\n",
    "        print(i)\n",
    "    else:\n",
    "        print(i[0] + str(len(i[1:-1])) + i[-1])\n"
   ]
  },
  {
   "cell_type": "code",
   "execution_count": 9,
   "id": "4be4c955",
   "metadata": {},
   "outputs": [
    {
     "name": "stdout",
     "output_type": "stream",
     "text": [
      "Hello\n"
     ]
    }
   ],
   "source": [
    "a = \"hello\"\n",
    "print(a.capitalize())"
   ]
  },
  {
   "cell_type": "code",
   "execution_count": 4,
   "id": "2196199c",
   "metadata": {},
   "outputs": [
    {
     "name": "stdout",
     "output_type": "stream",
     "text": [
      "k\n"
     ]
    }
   ],
   "source": [
    "world = 'yntymak'\n",
    "print(world[len(world)-1])"
   ]
  },
  {
   "cell_type": "code",
   "execution_count": null,
   "id": "f5c30dfe",
   "metadata": {},
   "outputs": [
    {
     "name": "stdout",
     "output_type": "stream",
     "text": [
      "5\n"
     ]
    }
   ],
   "source": [
    "world = 'yntYmak'\n",
    "print(len(world[1:-1]))"
   ]
  },
  {
   "cell_type": "code",
   "execution_count": null,
   "id": "4f1f3e9c",
   "metadata": {},
   "outputs": [],
   "source": [
    "a = input()\n",
    "print(a.capitalize())"
   ]
  },
  {
   "cell_type": "code",
   "execution_count": 17,
   "id": "e9c61d60",
   "metadata": {},
   "outputs": [
    {
     "name": "stdout",
     "output_type": "stream",
     "text": [
      "Konjac\n"
     ]
    }
   ],
   "source": [
    "w = 'konjac'\n",
    "new =''\n",
    "new += w[0].capitalize()\n",
    "new+=w[1:]\n",
    "print(new)"
   ]
  },
  {
   "cell_type": "code",
   "execution_count": null,
   "id": "bde97bb9",
   "metadata": {},
   "outputs": [
    {
     "ename": "ValueError",
     "evalue": "not enough values to unpack (expected 2, got 0)",
     "output_type": "error",
     "traceback": [
      "\u001b[31m---------------------------------------------------------------------------\u001b[39m",
      "\u001b[31mValueError\u001b[39m                                Traceback (most recent call last)",
      "\u001b[36mCell\u001b[39m\u001b[36m \u001b[39m\u001b[32mIn[19]\u001b[39m\u001b[32m, line 1\u001b[39m\n\u001b[32m----> \u001b[39m\u001b[32m1\u001b[39m n, k = \u001b[38;5;28mmap\u001b[39m(\u001b[38;5;28mint\u001b[39m, \u001b[38;5;28minput\u001b[39m().split()) \n\u001b[32m      2\u001b[39m scores = \u001b[38;5;28mlist\u001b[39m(\u001b[38;5;28mmap\u001b[39m(\u001b[38;5;28mint\u001b[39m, \u001b[38;5;28minput\u001b[39m().split()))  \n\u001b[32m      4\u001b[39m accepted = \u001b[32m0\u001b[39m\n",
      "\u001b[31mValueError\u001b[39m: not enough values to unpack (expected 2, got 0)"
     ]
    }
   ],
   "source": [
    "n, k = map(int, input().split()) \n",
    "scores = list(map(int, input().split()))  \n",
    "\n",
    "accepted = 0\n",
    "min_score = scores[k-1]\n",
    "\n",
    "for i in scores:\n",
    "    if i >= min_score and i > 0:\n",
    "        accepted+=1\n",
    "print(accepted)\n",
    "\n",
    "\n",
    "\n"
   ]
  },
  {
   "cell_type": "code",
   "execution_count": 18,
   "id": "deac7e86",
   "metadata": {},
   "outputs": [
    {
     "name": "stdout",
     "output_type": "stream",
     "text": [
      "4\n"
     ]
    }
   ],
   "source": [
    "arr = [1,2,3,4,5]\n",
    "print(arr[3])"
   ]
  },
  {
   "cell_type": "markdown",
   "id": "e96255b1",
   "metadata": {},
   "source": []
  },
  {
   "cell_type": "code",
   "execution_count": null,
   "id": "9b616fb8",
   "metadata": {},
   "outputs": [],
   "source": [
    "number = int(input())\n",
    "steps = 0\n",
    "while number !=1:\n",
    "    \n"
   ]
  },
  {
   "cell_type": "code",
   "execution_count": 20,
   "id": "cfb5dd28",
   "metadata": {},
   "outputs": [
    {
     "name": "stdout",
     "output_type": "stream",
     "text": [
      "1\n",
      "2\n",
      "3\n",
      "4\n"
     ]
    }
   ],
   "source": [
    "for i in range(1,5):\n",
    "    print(i)"
   ]
  },
  {
   "cell_type": "code",
   "execution_count": null,
   "id": "9dd0de40",
   "metadata": {},
   "outputs": [
    {
     "ename": "SyntaxError",
     "evalue": "expected ':' (3015171860.py, line 5)",
     "output_type": "error",
     "traceback": [
      "  \u001b[36mCell\u001b[39m\u001b[36m \u001b[39m\u001b[32mIn[21]\u001b[39m\u001b[32m, line 5\u001b[39m\n\u001b[31m    \u001b[39m\u001b[31melif s2\u001b[39m\n           ^\n\u001b[31mSyntaxError\u001b[39m\u001b[31m:\u001b[39m expected ':'\n"
     ]
    }
   ],
   "source": [
    "s1 = (input().strip()).lower()\n",
    "s2 = (input().strip()).lower()\n",
    "if s1 > s2:\n",
    "    print(1)\n",
    "elif s2 > s1:\n",
    "    print(-1)\n",
    "else:\n",
    "    print(0)\n"
   ]
  },
  {
   "cell_type": "code",
   "execution_count": 41,
   "id": "3fe63997",
   "metadata": {},
   "outputs": [
    {
     "name": "stdout",
     "output_type": "stream",
     "text": [
      "['3', '4', '5', '6']\n"
     ]
    }
   ],
   "source": [
    "a = '3,4,5,6'\n",
    "b = sorted(a.split(','))\n",
    "print(b)\n"
   ]
  },
  {
   "cell_type": "code",
   "execution_count": 48,
   "id": "ad4707b2",
   "metadata": {},
   "outputs": [
    {
     "name": "stdout",
     "output_type": "stream",
     "text": [
      "<class 'str'>\n"
     ]
    }
   ],
   "source": [
    "s = input()\n",
    "numbers = sorted(s.split('+'))\n",
    "\n",
    "b = (\"+\".join(numbers))\n",
    "print(type(b))\n",
    "\n",
    "\n",
    "\n",
    "\n"
   ]
  },
  {
   "cell_type": "code",
   "execution_count": 18,
   "id": "daf21d31",
   "metadata": {},
   "outputs": [
    {
     "name": "stdout",
     "output_type": "stream",
     "text": [
      "good\n"
     ]
    }
   ],
   "source": [
    "if 4 <2:\n",
    "    print('hello')\n",
    "elif 4 > 2:\n",
    "    print(\"good\")"
   ]
  },
  {
   "cell_type": "code",
   "execution_count": 19,
   "id": "cbfeb82e",
   "metadata": {},
   "outputs": [
    {
     "name": "stdout",
     "output_type": "stream",
     "text": [
      "HELLO\n"
     ]
    }
   ],
   "source": [
    "a = \"hello\"\n",
    "print(a.upper())"
   ]
  },
  {
   "cell_type": "code",
   "execution_count": 7,
   "id": "05758fb5",
   "metadata": {},
   "outputs": [
    {
     "name": "stdout",
     "output_type": "stream",
     "text": [
      "defaultdict(<class 'int'>, {'yntymak': 2})\n"
     ]
    }
   ],
   "source": [
    "from collections import defaultdict\n",
    "\n",
    "dic = defaultdict(int)\n",
    "dic[\"yntymak\"]+=2\n",
    "print(dic)"
   ]
  },
  {
   "cell_type": "code",
   "execution_count": 22,
   "id": "8d8b9695",
   "metadata": {},
   "outputs": [
    {
     "name": "stdout",
     "output_type": "stream",
     "text": [
      "matrix\n"
     ]
    }
   ],
   "source": [
    "from collections import defaultdict\n",
    "\n",
    "word = \"maTRIx\"\n",
    "dict = defaultdict(int)\n",
    "for i in word:\n",
    "    if word.upper() == word:\n",
    "        print(word)\n",
    "        break\n",
    "    elif word.lower()== word:\n",
    "        print(word)\n",
    "        break\n",
    "    else:\n",
    "        for i in range(len(word)):\n",
    "            if word[i].upper() == word[i]:\n",
    "                dict['big']+=1\n",
    "            else:\n",
    "                dict['small']+=1\n",
    "        if dict['small'] >= dict['big'] :\n",
    "            print(word.lower())\n",
    "            break\n",
    "        else:\n",
    "            print(word.upper())\n",
    "            break\n"
   ]
  },
  {
   "cell_type": "code",
   "execution_count": 23,
   "id": "a845498d",
   "metadata": {},
   "outputs": [
    {
     "name": "stdout",
     "output_type": "stream",
     "text": [
      "Counter({2: 3, 3: 2, 4: 2, 5: 1})\n"
     ]
    }
   ],
   "source": [
    "from collections import Counter\n",
    "a = [2,3,4,5,3,2,2,4]\n",
    "print(Counter(a))\n"
   ]
  },
  {
   "cell_type": "code",
   "execution_count": 31,
   "id": "b6f97939",
   "metadata": {},
   "outputs": [
    {
     "name": "stdout",
     "output_type": "stream",
     "text": [
      "y\n",
      "n\n",
      "t\n",
      "y\n"
     ]
    }
   ],
   "source": [
    "a = \"ynty\"\n",
    "for i in a:\n",
    "    print(i)"
   ]
  },
  {
   "cell_type": "code",
   "execution_count": 66,
   "id": "55c5b840",
   "metadata": {},
   "outputs": [
    {
     "name": "stdout",
     "output_type": "stream",
     "text": [
      "True\n"
     ]
    }
   ],
   "source": [
    "def check(n):\n",
    "    sett = {7,4}\n",
    "    for i in str(n):\n",
    "        sett.add(int(i))\n",
    "    if len(sett) > 2:\n",
    "        return False\n",
    "    else:\n",
    "        return True\n",
    "print(check(int(\"444\")))\n",
    "\n",
    "    \n"
   ]
  },
  {
   "cell_type": "code",
   "execution_count": null,
   "id": "8840bc04",
   "metadata": {},
   "outputs": [
    {
     "name": "stdout",
     "output_type": "stream",
     "text": [
      "True\n"
     ]
    }
   ],
   "source": [
    "from collections import defaultdict\n",
    "def check(n):#int\n",
    "    for i in str(n):\n",
    "        if i not in {\"7\",\"4\"}:\n",
    "            return False\n",
    "    return True\n",
    "\n",
    "s = \"7747774\"\n",
    "\n",
    "num = sum(1 for i in s if i in {\"7\", \"4\"} )\n",
    "\n"
   ]
  },
  {
   "cell_type": "code",
   "execution_count": 75,
   "id": "50927d01",
   "metadata": {},
   "outputs": [
    {
     "name": "stdout",
     "output_type": "stream",
     "text": [
      "True\n"
     ]
    }
   ],
   "source": [
    "def check(n):\n",
    "    sett = {\"7\",\"4\"}\n",
    "    for i in n:\n",
    "        sett.add(i)\n",
    "    if len(sett) > 2:\n",
    "        return False\n",
    "    else:\n",
    "        return True\n",
    "print(check('7'))"
   ]
  },
  {
   "cell_type": "code",
   "execution_count": null,
   "id": "156ca081",
   "metadata": {},
   "outputs": [
    {
     "name": "stdout",
     "output_type": "stream",
     "text": [
      "10\n"
     ]
    }
   ],
   "source": [
    "s = sum[1 for i in range(10))\n",
    "print(s)"
   ]
  },
  {
   "cell_type": "code",
   "execution_count": 96,
   "id": "a77caf24",
   "metadata": {},
   "outputs": [
    {
     "name": "stdout",
     "output_type": "stream",
     "text": [
      "63\n"
     ]
    }
   ],
   "source": [
    "arr = [3,4,56]\n",
    "print(sum(arr))"
   ]
  },
  {
   "cell_type": "code",
   "execution_count": null,
   "id": "8366339c",
   "metadata": {},
   "outputs": [
    {
     "name": "stdout",
     "output_type": "stream",
     "text": [
      "i hate it\n",
      "I hate that I l4ove it\n",
      "I hate that I love that I hate it\n"
     ]
    }
   ],
   "source": [
    "n = int(input())\n",
    "counter = 0\n",
    "for i in range(n):\n",
    "    if i ==counter:\n",
    "        print(\"i hate it\")\n",
    "        \n",
    "        \n",
    "        \n",
    "    if i == counter+1:\n",
    "        print(\"I hate that I l4ove it\")\n",
    "    elif i == counter + 2: \n",
    "        print(\"I hate that I love that I hate it\")\n",
    "    "
   ]
  },
  {
   "cell_type": "code",
   "execution_count": 7,
   "id": "178a205e",
   "metadata": {},
   "outputs": [
    {
     "name": "stdout",
     "output_type": "stream",
     "text": [
      "-3\n"
     ]
    }
   ],
   "source": [
    "n = int(input())\n",
    "sm = 0\n",
    "for i in range(1,n+1):\n",
    "    if i % 2 != 0:\n",
    "        sm += i*(-1)\n",
    "    else:\n",
    "        sm+=i\n",
    "print(sm)\n",
    "\n",
    "\n",
    "\n",
    "\n",
    "    "
   ]
  },
  {
   "cell_type": "code",
   "execution_count": 5,
   "id": "59074357",
   "metadata": {},
   "outputs": [
    {
     "name": "stdout",
     "output_type": "stream",
     "text": [
      "1\n",
      "2\n",
      "3\n"
     ]
    }
   ],
   "source": [
    "for i in range(1,4):\n",
    "    print(i)"
   ]
  },
  {
   "cell_type": "code",
   "execution_count": null,
   "id": "8fa678a3",
   "metadata": {},
   "outputs": [
    {
     "name": "stdout",
     "output_type": "stream",
     "text": [
      "3\n"
     ]
    }
   ],
   "source": [
    "t = int(input())  # количество наборов\n",
    "\n",
    "for _ in range(t):\n",
    "    a, b, c, d = map(int, input().split())\n",
    "    count = \n",
    "    \n",
    "    \n"
   ]
  },
  {
   "cell_type": "code",
   "execution_count": 10,
   "id": "c5444e19",
   "metadata": {},
   "outputs": [
    {
     "name": "stdout",
     "output_type": "stream",
     "text": [
      "3\n"
     ]
    }
   ],
   "source": [
    "a,b,c = [1,2,3]\n",
    "print(c)"
   ]
  },
  {
   "cell_type": "code",
   "execution_count": 25,
   "id": "380939b3",
   "metadata": {},
   "outputs": [
    {
     "name": "stdout",
     "output_type": "stream",
     "text": [
      "1024\n"
     ]
    }
   ],
   "source": [
    "y = int(input())\n",
    "while True:\n",
    "    y+=1\n",
    "    if len(set(str(y))) == 4:\n",
    "        print(y)\n",
    "        break\n",
    "    \n",
    "    \n",
    "    \n"
   ]
  },
  {
   "cell_type": "code",
   "execution_count": 28,
   "id": "4e3b1fe8",
   "metadata": {},
   "outputs": [
    {
     "name": "stdout",
     "output_type": "stream",
     "text": [
      "14\n",
      "18\n"
     ]
    }
   ],
   "source": [
    "t = int(input())\n",
    "for _ in range(t):\n",
    "    num = str(int(input()))\n",
    "    print(int(num[0]) + int(num[1]))"
   ]
  },
  {
   "cell_type": "code",
   "execution_count": null,
   "id": "5d99554c",
   "metadata": {},
   "outputs": [
    {
     "name": "stdout",
     "output_type": "stream",
     "text": [
      "NO\n"
     ]
    }
   ],
   "source": [
    "t = int(input())\n",
    "for _ in range(t):\n",
    "    a, b, c = map(int, input().split())\n",
    "    if a + b >= 10 or a + c >= 10 or b + c >= 10:\n",
    "        print('YES')\n",
    "    else:\n",
    "        print(\"NO\")\n",
    "    "
   ]
  },
  {
   "cell_type": "code",
   "execution_count": 35,
   "id": "f628866e",
   "metadata": {},
   "outputs": [
    {
     "name": "stdout",
     "output_type": "stream",
     "text": [
      "Division 4\n"
     ]
    }
   ],
   "source": [
    "t = int(input())\n",
    "for i in range(t):\n",
    "    rating = int(input())\n",
    "    if rating >= 1900:\n",
    "        print(\"Division 1\") \n",
    "    elif 1600 <=rating <=1899:\n",
    "        print(\"Division 2\")\n",
    "    elif 1400 <= rating <= 1599:\n",
    "        print(\"Division 3\")\n",
    "    elif rating <= 1399:\n",
    "        print(\"Division 4\")"
   ]
  },
  {
   "cell_type": "code",
   "execution_count": null,
   "id": "70a36d52",
   "metadata": {},
   "outputs": [
    {
     "name": "stdout",
     "output_type": "stream",
     "text": [
      "EASY\n"
     ]
    }
   ],
   "source": [
    "n = int(input())\n",
    "answers = list(map(int, input().split()))\n",
    "print(\"HARD\" if 1 in answers else \"EASY\")\n"
   ]
  },
  {
   "cell_type": "code",
   "execution_count": null,
   "id": "d3516bd9",
   "metadata": {},
   "outputs": [
    {
     "name": "stdout",
     "output_type": "stream",
     "text": [
      "2 3 4\n",
      "3 4 5\n"
     ]
    }
   ],
   "source": [
    "t = int(input())\n",
    "for i in range(t):\n",
    "    a, b, c = map(int, input().split())\n",
    "    if a+b ==c or a+c ==b or b+c ==a:\n",
    "        print(\"YES\")\n",
    "    else:\n",
    "        print(\"NO\")"
   ]
  },
  {
   "cell_type": "code",
   "execution_count": 86,
   "id": "ec780579",
   "metadata": {},
   "outputs": [
    {
     "name": "stdout",
     "output_type": "stream",
     "text": [
      "NO\n",
      "NO\n"
     ]
    }
   ],
   "source": [
    "t = int(input())\n",
    "for i in range(t):\n",
    "    a, b, c = map(str, input().split())\n",
    "    print(\"YES\" if a+b ==c or a+c ==b or b+c == a else \"NO\")\n",
    "     "
   ]
  },
  {
   "cell_type": "code",
   "execution_count": null,
   "id": "9563e1df",
   "metadata": {},
   "outputs": [
    {
     "name": "stdout",
     "output_type": "stream",
     "text": [
      "5\n"
     ]
    }
   ],
   "source": [
    "s = \"Hello World\"\n",
    "new =s.split()\n",
    "print(len(new[-1]))"
   ]
  },
  {
   "cell_type": "code",
   "execution_count": 62,
   "id": "95196281",
   "metadata": {},
   "outputs": [
    {
     "name": "stdout",
     "output_type": "stream",
     "text": [
      "World\n"
     ]
    }
   ],
   "source": [
    "s = \"Hello World\"\n",
    "new = s.split()\n",
    "print(new[-1])"
   ]
  },
  {
   "cell_type": "code",
   "execution_count": null,
   "id": "0cb94d46",
   "metadata": {},
   "outputs": [
    {
     "name": "stdout",
     "output_type": "stream",
     "text": [
      "[1, 2, 3, 4]\n"
     ]
    }
   ],
   "source": []
  },
  {
   "cell_type": "code",
   "execution_count": 78,
   "id": "de1389bf",
   "metadata": {},
   "outputs": [
    {
     "ename": "SyntaxError",
     "evalue": "invalid syntax (943495869.py, line 4)",
     "output_type": "error",
     "traceback": [
      "  \u001b[36mCell\u001b[39m\u001b[36m \u001b[39m\u001b[32mIn[78]\u001b[39m\u001b[32m, line 4\u001b[39m\n\u001b[31m    \u001b[39m\u001b[31mreturn [i for i in nums if i !=num else \"_\"]\u001b[39m\n                                       ^\n\u001b[31mSyntaxError\u001b[39m\u001b[31m:\u001b[39m invalid syntax\n"
     ]
    }
   ],
   "source": [
    "def removeDup(num):\n",
    "    arr = [1,2,34,4,4]\n",
    "    \n",
    "    return [i for i in nums if i !=num else \"_\"]\n",
    "print(removeDup(4))"
   ]
  },
  {
   "cell_type": "code",
   "execution_count": 85,
   "id": "9033d131",
   "metadata": {},
   "outputs": [
    {
     "name": "stdout",
     "output_type": "stream",
     "text": [
      "olleh\n"
     ]
    }
   ],
   "source": [
    "def abc(a):\n",
    "    a = a[::-1]\n",
    "    return a\n",
    "print(abc(\"hello\"))"
   ]
  },
  {
   "cell_type": "code",
   "execution_count": 89,
   "id": "b45e84d8",
   "metadata": {},
   "outputs": [
    {
     "name": "stdout",
     "output_type": "stream",
     "text": [
      "2\n"
     ]
    }
   ],
   "source": [
    "arr = [1,2,3]\n",
    "n = arr[1]\n",
    "b = arr[1] = n\n",
    "print(b)"
   ]
  },
  {
   "cell_type": "code",
   "execution_count": 97,
   "id": "c8f73a81",
   "metadata": {},
   "outputs": [
    {
     "name": "stdout",
     "output_type": "stream",
     "text": [
      "['h', 'e', 'l', 'l', 'o']\n",
      "['h', 'e', 'l', 'l', 'o']\n"
     ]
    }
   ],
   "source": [
    "word = 'hello'\n",
    "a = (list(word))\n",
    "print(a)\n",
    "print(str(a))"
   ]
  },
  {
   "cell_type": "code",
   "execution_count": 112,
   "id": "182710a8",
   "metadata": {},
   "outputs": [
    {
     "name": "stdout",
     "output_type": "stream",
     "text": [
      "wello horld\n"
     ]
    }
   ],
   "source": [
    "t = int(input())\n",
    "for _ in range(t):\n",
    "    a,b = map(str, input().split())\n",
    "    new = a[0]\n",
    "    new2 = b[0]\n",
    "    list1 = list(a)\n",
    "    list2 = list(b)\n",
    "    list1[0] = new2\n",
    "    list2[0] = new \n",
    "    print(''.join(list1), ''.join(list2))   "
   ]
  },
  {
   "cell_type": "code",
   "execution_count": 107,
   "id": "c459c3e3",
   "metadata": {},
   "outputs": [
    {
     "name": "stdout",
     "output_type": "stream",
     "text": [
      "Yibek\n"
     ]
    }
   ],
   "source": [
    "a = 'aibek'\n",
    "a = list(a)\n",
    "a[0] = \"Y\"\n",
    "print(''.join(a))"
   ]
  },
  {
   "cell_type": "code",
   "execution_count": null,
   "id": "06d34617",
   "metadata": {},
   "outputs": [
    {
     "name": "stdout",
     "output_type": "stream",
     "text": [
      "Y!i!b!e!k\n"
     ]
    }
   ],
   "source": [
    "letters = ['Y', 'i', 'b', 'e', 'k']\n",
    "word = ''.join(letters)\n",
    "print(word)  # Output: Yibek"
   ]
  },
  {
   "cell_type": "code",
   "execution_count": null,
   "id": "c940cc1a",
   "metadata": {},
   "outputs": [
    {
     "name": "stdout",
     "output_type": "stream",
     "text": [
      "akul enok\n"
     ]
    }
   ],
   "source": [
    "a = 'akulbenok'\n",
    "b = a[:4]#akul\n",
    "c = a[4:]#enok\n",
    "print(b,c)\n"
   ]
  },
  {
   "cell_type": "code",
   "execution_count": 125,
   "id": "b7e52092",
   "metadata": {},
   "outputs": [
    {
     "name": "stdout",
     "output_type": "stream",
     "text": [
      "NO\n"
     ]
    }
   ],
   "source": [
    "a = '123'\n",
    "b = list(a)\n",
    "t = int(input())\n",
    "for i in range(t):\n",
    "    a = str(int(input()))\n",
    "    num1 = (a[:3])\n",
    "    num2 = (a[3:])\n",
    "    sm = [int(i) for i in num1]\n",
    "    sm2 = [int(i) for i in num2]\n",
    "    print(\"YES\" if sum(sm) == sum(sm2) else \"NO\")\n",
    "    \n",
    "    \n",
    "    "
   ]
  },
  {
   "cell_type": "code",
   "execution_count": 124,
   "id": "23b61681",
   "metadata": {},
   "outputs": [
    {
     "name": "stdout",
     "output_type": "stream",
     "text": [
      "NO\n"
     ]
    }
   ],
   "source": [
    "t = int(input())\n",
    "for i in range(t):\n",
    "    a = input()\n",
    "    num1 = (a[:3])\n",
    "    num2 = (a[3:])\n",
    "    sm = [int(i) for i in num1]\n",
    "    sm2 = [int(i) for i in num2]\n",
    "    print(\"YES\" if sum(sm) == sum(sm2) else \"NO\")\n",
    "    \n",
    "    \n",
    "    "
   ]
  },
  {
   "cell_type": "code",
   "execution_count": 2,
   "id": "5e59257c",
   "metadata": {},
   "outputs": [
    {
     "name": "stdout",
     "output_type": "stream",
     "text": [
      "11\n"
     ]
    }
   ],
   "source": [
    "t = int(input())\n",
    "for i in range(t):\n",
    "    n, k = map(int, input().split()) #Quantity, time you can change\n",
    "    a = sorted(list(map(int, input().split())))\n",
    "    b = sorted(list(map(int, input().split())), reverse=True)\n",
    "\n",
    "    for i in range(k):\n",
    "        if b[i] > a [i]:\n",
    "            a[i] = b[i]\n",
    "    print(sum(a))\n",
    "\n",
    "\n"
   ]
  },
  {
   "cell_type": "code",
   "execution_count": 9,
   "id": "6a587f00",
   "metadata": {},
   "outputs": [
    {
     "name": "stdout",
     "output_type": "stream",
     "text": [
      "4\n"
     ]
    }
   ],
   "source": [
    "#AMAZING\n",
    "\n",
    "t = int(input())\n",
    "for i in range(t):\n",
    "    n = int(input())\n",
    "    a = list(map(int, input().split()))\n",
    "    current = 0\n",
    "    max_zero = 0\n",
    "    for i in range(n):\n",
    "        if a[i] == 0:\n",
    "            current +=1\n",
    "        else:\n",
    "            max_zero = max(max_zero, current)\n",
    "            current = 0\n",
    "    print(max(max_zero, current))\n",
    "    \n",
    "\n"
   ]
  },
  {
   "cell_type": "code",
   "execution_count": null,
   "id": "8e02ffc1",
   "metadata": {},
   "outputs": [
    {
     "name": "stdout",
     "output_type": "stream",
     "text": [
      "6\n"
     ]
    }
   ],
   "source": [
    "arr = [1,2,3,4,56,]\n",
    "arr_len = len(arr) \n",
    "max_len = max(5, arr_len)\n",
    "print(max_len)\n",
    "\n",
    "\n",
    "\n",
    "\n"
   ]
  },
  {
   "cell_type": "code",
   "execution_count": 32,
   "id": "643a7e2f",
   "metadata": {},
   "outputs": [],
   "source": [
    "n = int(input()) # 10\n",
    "row = 0 \n",
    "for i in range(1,n):# 1 -> 1,  2 -> 1+2 = 3,  3-> 3 + 3 =6, 4->6+\n",
    "    row += row+i\n",
    "    if row == n:\n",
    "        print(i)\n",
    "        break\n",
    "      \n",
    "\n",
    "\n",
    "    \n",
    "    \n",
    "    \n",
    "    "
   ]
  },
  {
   "cell_type": "code",
   "execution_count": 33,
   "id": "8160f6bc",
   "metadata": {},
   "outputs": [
    {
     "name": "stdout",
     "output_type": "stream",
     "text": [
      "2\n"
     ]
    }
   ],
   "source": [
    "t = int(input())\n",
    "for i in range(t):\n",
    "    n = int(input())\n",
    "    s = sorted(list(map(int, input().split())), reverse = True)\n",
    "    print(s[0] - s[1])\n",
    "    "
   ]
  },
  {
   "cell_type": "code",
   "execution_count": 42,
   "id": "468d0664",
   "metadata": {},
   "outputs": [
    {
     "name": "stdout",
     "output_type": "stream",
     "text": [
      "[1, 2]\n",
      "2\n"
     ]
    }
   ],
   "source": [
    "arr = [3,1,2,6,4]\n",
    "arr1 = (sorted(arr)[:len(arr)//2])\n",
    "arr2 = sorted(arr)[len(arr)//2:]\n",
    "print(arr1)\n",
    "print(arr2[0]- arr1[0])"
   ]
  },
  {
   "cell_type": "code",
   "execution_count": null,
   "id": "99069d14",
   "metadata": {},
   "outputs": [],
   "source": [
    "letters = []\n",
    "word = input()\n"
   ]
  },
  {
   "cell_type": "code",
   "execution_count": null,
   "id": "f4658ea9",
   "metadata": {},
   "outputs": [
    {
     "name": "stdout",
     "output_type": "stream",
     "text": [
      "3\n"
     ]
    }
   ],
   "source": [
    "word = input()\n",
    "letters = 'abcdefghijklmnopqrstuvwxyz'\n",
    "letters2 = letters[::-1]\n",
    "times = 0\n",
    "for index, j in enumerate(word):\n",
    "print(times)\n"
   ]
  },
  {
   "cell_type": "code",
   "execution_count": 52,
   "id": "568357ae",
   "metadata": {},
   "outputs": [
    {
     "name": "stdout",
     "output_type": "stream",
     "text": [
      "0\n",
      "1\n",
      "2\n"
     ]
    }
   ],
   "source": [
    "arr = [1,23,3]\n",
    "for index, j in enumerate(arr):\n",
    "    print(index)"
   ]
  },
  {
   "cell_type": "code",
   "execution_count": 53,
   "id": "89477032",
   "metadata": {},
   "outputs": [
    {
     "name": "stdout",
     "output_type": "stream",
     "text": [
      "1\n"
     ]
    }
   ],
   "source": [
    "n = int(input())\n",
    "total = 0\n",
    "for i in range(n):\n",
    "    sentence = input()\n",
    "    if sentence[1] == '-':\n",
    "        total -=1\n",
    "    else:\n",
    "        total +=1\n",
    "    \n",
    "print(total)"
   ]
  },
  {
   "cell_type": "code",
   "execution_count": 55,
   "id": "8aa1ce1a",
   "metadata": {},
   "outputs": [
    {
     "name": "stdout",
     "output_type": "stream",
     "text": [
      "1\n"
     ]
    }
   ],
   "source": [
    "n = int(input())\n",
    "sure = 0\n",
    "for i in range(n):\n",
    "    answers = list(map(int, input().split()))\n",
    "    if answers.count(1) >=2:\n",
    "        sure +=1\n",
    "print(sure)"
   ]
  },
  {
   "cell_type": "code",
   "execution_count": 56,
   "id": "ea380cd4",
   "metadata": {},
   "outputs": [
    {
     "name": "stdout",
     "output_type": "stream",
     "text": [
      "more than 2\n"
     ]
    }
   ],
   "source": [
    "arr =[1,2,2,2]\n",
    "if arr.count(2) > 2:\n",
    "    print(\"more than 2\")"
   ]
  },
  {
   "cell_type": "code",
   "execution_count": 57,
   "id": "ebd6b1ab",
   "metadata": {},
   "outputs": [
    {
     "name": "stdout",
     "output_type": "stream",
     "text": [
      "hello\n"
     ]
    }
   ],
   "source": [
    "M = \"hello\"\n",
    "print(M)"
   ]
  },
  {
   "cell_type": "code",
   "execution_count": 60,
   "id": "398a8605",
   "metadata": {},
   "outputs": [
    {
     "name": "stdout",
     "output_type": "stream",
     "text": [
      "1\n"
     ]
    }
   ],
   "source": [
    "n, k = map(int, input().split())\n",
    "for i in range(k):\n",
    "    if n % 10 == 0:\n",
    "        n//=10\n",
    "    else:\n",
    "        n-=1\n",
    "print(n)"
   ]
  },
  {
   "cell_type": "code",
   "execution_count": 61,
   "id": "fedebe15",
   "metadata": {},
   "outputs": [
    {
     "name": "stdout",
     "output_type": "stream",
     "text": [
      "6\n"
     ]
    }
   ],
   "source": [
    "n = int(input())\n",
    "max_quantity = 0\n",
    "quantity = 0\n",
    "for i in range(n):\n",
    "    a, b = map(int, input().split())\n",
    "    quantity -=a\n",
    "    quantity +=b\n",
    "    max_quantity = max(max_quantity, quantity)\n",
    "print(max_quantity)\n",
    "    "
   ]
  },
  {
   "cell_type": "code",
   "execution_count": 62,
   "id": "5ace621e",
   "metadata": {},
   "outputs": [
    {
     "name": "stdout",
     "output_type": "stream",
     "text": [
      "['G', 'B']\n"
     ]
    }
   ],
   "source": [
    "arr = [\"B\", \"G\"]\n",
    "for i in range(len(arr)):\n",
    "    if arr[i] == \"G\":\n",
    "        arr[i-1] = \"G\"\n",
    "        arr[i] = \"B\"\n",
    "print(arr)"
   ]
  },
  {
   "cell_type": "code",
   "execution_count": 64,
   "id": "c325766d",
   "metadata": {},
   "outputs": [
    {
     "name": "stdout",
     "output_type": "stream",
     "text": [
      "[1, 23]\n",
      "[1, 23]\n"
     ]
    }
   ],
   "source": [
    "arr= [1,23]\n",
    "for i in range(2):\n",
    "    print(arr)"
   ]
  },
  {
   "cell_type": "code",
   "execution_count": 66,
   "id": "519eebe9",
   "metadata": {},
   "outputs": [
    {
     "name": "stdout",
     "output_type": "stream",
     "text": [
      "2\n"
     ]
    }
   ],
   "source": [
    "arr = [1,2]\n",
    "if arr[0-1] !=5:\n",
    "    print(arr[-1])"
   ]
  },
  {
   "cell_type": "code",
   "execution_count": 73,
   "id": "b50a3ae8",
   "metadata": {},
   "outputs": [
    {
     "name": "stdout",
     "output_type": "stream",
     "text": [
      "['G', 'G', 'B', 'B', 'G']\n"
     ]
    }
   ],
   "source": [
    "n , t = map(int, input().split())\n",
    "current = 0\n",
    "s = list(input())\n",
    "for i in range(n):\n",
    "    if s[i] == \"G\" and i !=0 and s[i-1]!=\"G\":\n",
    "        s[i-1] = 'G' \n",
    "        s[i] = 'B'\n",
    "        current +=1\n",
    "        if current == t:\n",
    "            print(s)\n",
    "            break\n",
    "    "
   ]
  },
  {
   "cell_type": "code",
   "execution_count": 3,
   "id": "1fb6151c",
   "metadata": {},
   "outputs": [
    {
     "name": "stdout",
     "output_type": "stream",
     "text": [
      "66.66666666666667\n"
     ]
    }
   ],
   "source": [
    "n = int(input())\n",
    "nums = list(map(int, input().split()))\n",
    "print(sum(nums)/n)"
   ]
  },
  {
   "cell_type": "code",
   "execution_count": null,
   "id": "233b75d3",
   "metadata": {},
   "outputs": [
    {
     "name": "stdout",
     "output_type": "stream",
     "text": [
      "no\n"
     ]
    }
   ],
   "source": [
    "quest = list(input())\n",
    "owner = list(input())\n",
    "letters = list(input())\n",
    "all = quest + owner \n",
    "for i in range(len(letters)):\n",
    "    try :\n",
    "        all.remove(letters[i])\n",
    "    except:\n",
    "        pass\n",
    "        \n",
    "if len(all) != 0:\n",
    "    print('no')\n",
    "else:\n",
    "    print(\"yes\")\n",
    "\n"
   ]
  },
  {
   "cell_type": "code",
   "execution_count": 12,
   "id": "2006c003",
   "metadata": {},
   "outputs": [
    {
     "name": "stdout",
     "output_type": "stream",
     "text": [
      "yes\n"
     ]
    }
   ],
   "source": [
    "arr = [3,4]\n",
    "try:\n",
    "    arr.remove(1)\n",
    "except:\n",
    "  pass\n",
    "if len(arr) > 0:\n",
    "    print('yes')\n"
   ]
  },
  {
   "cell_type": "code",
   "execution_count": 20,
   "id": "d6caf225",
   "metadata": {},
   "outputs": [],
   "source": [
    "dic = {\"me\":12, \"her\":2}\n",
    "del dic[\"me\"]"
   ]
  },
  {
   "cell_type": "code",
   "execution_count": 23,
   "id": "0a31d33b",
   "metadata": {},
   "outputs": [
    {
     "name": "stdout",
     "output_type": "stream",
     "text": [
      "YES\n"
     ]
    }
   ],
   "source": [
    "from collections import Counter\n",
    "santa = (input())\n",
    "owner = (input())\n",
    "letters = Counter(input())\n",
    "santaowner = Counter(santa+owner)#if santaowner can be longer that letters\n",
    "if letters == santaowner:\n",
    "    print(\"YES\")\n",
    "else:\n",
    "    print(\"NO\")"
   ]
  },
  {
   "cell_type": "code",
   "execution_count": 29,
   "id": "27751b08",
   "metadata": {},
   "outputs": [
    {
     "name": "stdout",
     "output_type": "stream",
     "text": [
      "Counter({'y': 2, 'N': 1, 'n': 1, 'm': 1, 'a': 1, 'k': 1})\n"
     ]
    }
   ],
   "source": [
    "a = Counter(\"yNnymak\")\n",
    "b = Counter('yntymak')\n",
    "print(a)\n"
   ]
  },
  {
   "cell_type": "code",
   "execution_count": 28,
   "id": "b1fb44f3",
   "metadata": {},
   "outputs": [
    {
     "name": "stdout",
     "output_type": "stream",
     "text": [
      "yntymkaaku\n"
     ]
    }
   ],
   "source": [
    "a = 'yntymka'\n",
    "b = 'aku'\n",
    "print(a+b)"
   ]
  },
  {
   "cell_type": "code",
   "execution_count": 1,
   "id": "540ba020",
   "metadata": {},
   "outputs": [
    {
     "name": "stdout",
     "output_type": "stream",
     "text": [
      "['T', 'i', 'm', 'r', 'u']\n"
     ]
    }
   ],
   "source": [
    "a = \"Timur\"\n",
    "print(sorted(a))"
   ]
  },
  {
   "cell_type": "code",
   "execution_count": null,
   "id": "27be9a63",
   "metadata": {},
   "outputs": [],
   "source": [
    "t = int(input())\n",
    "for i in range(t):\n",
    "    n = int(input())\n",
    "    word = input()\n",
    "    if n == 5 and sorted(word) == sorted(\"Timur\"):\n",
    "        print(\"YES\")\n",
    "    else:\n",
    "        print(\"NO\")"
   ]
  },
  {
   "cell_type": "code",
   "execution_count": null,
   "id": "36a251b2",
   "metadata": {},
   "outputs": [],
   "source": [
    "import string\n",
    "word = input()\n",
    "letters = string.ascii_lowercase"
   ]
  },
  {
   "cell_type": "code",
   "execution_count": 6,
   "id": "347dcf1f",
   "metadata": {},
   "outputs": [
    {
     "name": "stdout",
     "output_type": "stream",
     "text": [
      "2\n"
     ]
    }
   ],
   "source": [
    "n = int(input())\n",
    "results = list(map(int, input().split()))\n",
    "target_max = results[0]\n",
    "target_min = results[0]\n",
    "output = 0\n",
    "for i in range(len(results)):\n",
    "    if results[i] > target_max or results[i] < target_min :\n",
    "        output +=1\n",
    "        target_max = max(results[i], target_max)\n",
    "        target_min = min(results[i], target_min)\n",
    "print(output)\n",
    "        \n",
    "        "
   ]
  },
  {
   "cell_type": "code",
   "execution_count": null,
   "id": "6c1b0d61",
   "metadata": {},
   "outputs": [
    {
     "ename": "ValueError",
     "evalue": "invalid literal for int() with base 10: ' '",
     "output_type": "error",
     "traceback": [
      "\u001b[31m---------------------------------------------------------------------------\u001b[39m",
      "\u001b[31mValueError\u001b[39m                                Traceback (most recent call last)",
      "\u001b[36mCell\u001b[39m\u001b[36m \u001b[39m\u001b[32mIn[7]\u001b[39m\u001b[32m, line 5\u001b[39m\n\u001b[32m      3\u001b[39m chris = \u001b[32m0\u001b[39m\n\u001b[32m      4\u001b[39m \u001b[38;5;28;01mfor\u001b[39;00m i \u001b[38;5;129;01min\u001b[39;00m \u001b[38;5;28mrange\u001b[39m(n):\n\u001b[32m----> \u001b[39m\u001b[32m5\u001b[39m     m, c = \u001b[38;5;28mmap\u001b[39m(\u001b[38;5;28mint\u001b[39m, \u001b[38;5;28minput\u001b[39m())\n\u001b[32m      6\u001b[39m     \u001b[38;5;28;01mif\u001b[39;00m m > c:\n\u001b[32m      7\u001b[39m         mish+=\u001b[32m1\u001b[39m\n",
      "\u001b[31mValueError\u001b[39m: invalid literal for int() with base 10: ' '"
     ]
    }
   ],
   "source": [
    "n = int(input())\n",
    "mish = 0\n",
    "chris = 0\n",
    "for i in range(n):\n",
    "    m, c = map(int, input().split())\n",
    "    if m > c:\n",
    "        mish+=1\n",
    "    elif c > m:\n",
    "        chris+=1\n",
    "if mish > chris:\n",
    "    print(\"Mishka\")\n",
    "elif mish < chris:\n",
    "    print(\"Chris\")\n",
    "else:\n",
    "    print(\"Friendship is magic!^^\")\n",
    "    \n",
    "    "
   ]
  },
  {
   "cell_type": "code",
   "execution_count": null,
   "id": "6089ea1d",
   "metadata": {},
   "outputs": [
    {
     "name": "stdout",
     "output_type": "stream",
     "text": [
      "False\n"
     ]
    }
   ],
   "source": [
    "from sympy import isprime\n",
    "print(isprime())"
   ]
  },
  {
   "cell_type": "code",
   "execution_count": 25,
   "id": "512faf74",
   "metadata": {},
   "outputs": [
    {
     "name": "stdout",
     "output_type": "stream",
     "text": [
      "NO\n"
     ]
    }
   ],
   "source": [
    "from sympy import isprime\n",
    "n, m = map(int, input().split())\n",
    "all_prime = [i for i in range(min(n, m), max(m, n)+1) if isprime(i)]\n",
    "try:\n",
    "    if all_prime[all_prime.index(min(n, m))+1] == max(m, n):\n",
    "        print(\"YES\")\n",
    "except:\n",
    "    print(\"NO\")\n"
   ]
  },
  {
   "cell_type": "code",
   "execution_count": null,
   "id": "bad3ca78",
   "metadata": {},
   "outputs": [
    {
     "name": "stdout",
     "output_type": "stream",
     "text": [
      "0\n"
     ]
    }
   ],
   "source": [
    "arr = [1,2,3]\n",
    "print(arr.inde(1))"
   ]
  },
  {
   "cell_type": "code",
   "execution_count": 7,
   "id": "bf5d5943",
   "metadata": {},
   "outputs": [
    {
     "name": "stdout",
     "output_type": "stream",
     "text": [
      "26\n"
     ]
    }
   ],
   "source": [
    "a = ('TheQuickBrownFoxJumpsOverTheLazyDog')\n",
    "print(len(set(a.lower())))"
   ]
  },
  {
   "cell_type": "code",
   "execution_count": 10,
   "id": "70270bf9",
   "metadata": {},
   "outputs": [
    {
     "name": "stdout",
     "output_type": "stream",
     "text": [
      "NO\n"
     ]
    }
   ],
   "source": [
    "n = int(input())\n",
    "word = input()\n",
    "if len(set(word.lower())) == 26:\n",
    "    print(\"YES\")\n",
    "else:\n",
    "    print(\"NO\")"
   ]
  },
  {
   "cell_type": "code",
   "execution_count": 2,
   "id": "7cbfe2b3",
   "metadata": {},
   "outputs": [
    {
     "name": "stdout",
     "output_type": "stream",
     "text": [
      "['1', '2', '3']\n"
     ]
    }
   ],
   "source": [
    "a = (input().split()\n",
    "     )\n",
    "print(a)"
   ]
  },
  {
   "cell_type": "code",
   "execution_count": 6,
   "id": "9a9ed6b1",
   "metadata": {},
   "outputs": [
    {
     "name": "stdout",
     "output_type": "stream",
     "text": [
      "[3]\n"
     ]
    }
   ],
   "source": [
    "t = int(input())\n",
    "for _ in range(t):\n",
    "    nums = sorted(map(int, input().split()), reverse=True)[:1]\n",
    "    print(nums)\n",
    "    "
   ]
  },
  {
   "cell_type": "code",
   "execution_count": null,
   "id": "6ee5e4d6",
   "metadata": {},
   "outputs": [
    {
     "name": "stdout",
     "output_type": "stream",
     "text": [
      "[[1, 2, 3, 4], [5, 6, 7, 8]]\n"
     ]
    }
   ],
   "source": [
    "matrix = []\n",
    "for i in range(5):\n",
    "    row = list(map(int, input().split()))\n",
    "    matrix.append(row)\n",
    "i\n"
   ]
  },
  {
   "cell_type": "code",
   "execution_count": 33,
   "id": "b9cf735b",
   "metadata": {},
   "outputs": [
    {
     "name": "stdout",
     "output_type": "stream",
     "text": [
      "2\n"
     ]
    }
   ],
   "source": [
    "matrix = []\n",
    "for i in range(5):\n",
    "    row = list(map(int, input().split()))\n",
    "    matrix.append(row)\n",
    "row_index = 0\n",
    "column = 0\n",
    "for i, j  in enumerate(arr):\n",
    "    if 1 in j:\n",
    "        row_index = i+1\n",
    "        column = j.index(1)+1\n",
    "\n",
    "print(abs(row_index-3)+abs(column-3))\n",
    "\n",
    "\n"
   ]
  },
  {
   "cell_type": "code",
   "execution_count": 32,
   "id": "8746313e",
   "metadata": {},
   "outputs": [
    {
     "name": "stdout",
     "output_type": "stream",
     "text": [
      "3\n"
     ]
    }
   ],
   "source": [
    "matrix = [\n",
    "    [0,0,0,0,0],\n",
    "    [0,0,0,0,1],\n",
    "    [0,0,0,0,0],\n",
    "    [0,0,0,0,0],\n",
    "    [0,0,0,0,0]\n",
    "    ]\n",
    "x = 0\n",
    "y = 0\n",
    "for i, j in enumerate(matrix):\n",
    "    for k, l in enumerate(matrix[0]):\n",
    "        if matrix[i][k] == 1:\n",
    "            x = i + 1\n",
    "            y = k + 1\n",
    "print(abs(x-3)+abs(y-3))"
   ]
  },
  {
   "cell_type": "code",
   "execution_count": 25,
   "id": "7dc26309",
   "metadata": {},
   "outputs": [
    {
     "name": "stdout",
     "output_type": "stream",
     "text": [
      "1\n"
     ]
    }
   ],
   "source": [
    "a = -1\n",
    "print(abs(a))"
   ]
  },
  {
   "cell_type": "code",
   "execution_count": null,
   "id": "30009dc1",
   "metadata": {},
   "outputs": [],
   "source": []
  }
 ],
 "metadata": {
  "kernelspec": {
   "display_name": "Python 3",
   "language": "python",
   "name": "python3"
  },
  "language_info": {
   "codemirror_mode": {
    "name": "ipython",
    "version": 3
   },
   "file_extension": ".py",
   "mimetype": "text/x-python",
   "name": "python",
   "nbconvert_exporter": "python",
   "pygments_lexer": "ipython3",
   "version": "3.13.2"
  }
 },
 "nbformat": 4,
 "nbformat_minor": 5
}
